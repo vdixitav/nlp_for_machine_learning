{
  "nbformat": 4,
  "nbformat_minor": 0,
  "metadata": {
    "colab": {
      "provenance": []
    },
    "kernelspec": {
      "name": "python3",
      "display_name": "Python 3"
    },
    "language_info": {
      "name": "python"
    }
  },
  "cells": [
    {
      "cell_type": "code",
      "execution_count": 11,
      "metadata": {
        "colab": {
          "base_uri": "https://localhost:8080/",
          "height": 283
        },
        "id": "ehQ8Cslxl_Rz",
        "outputId": "593b7193-73e5-4acf-fc53-987e2049e18f"
      },
      "outputs": [
        {
          "output_type": "stream",
          "name": "stdout",
          "text": [
            "Requirement already satisfied: nltk in /usr/local/lib/python3.10/dist-packages (3.8.1)\n",
            "Requirement already satisfied: click in /usr/local/lib/python3.10/dist-packages (from nltk) (8.1.7)\n",
            "Requirement already satisfied: joblib in /usr/local/lib/python3.10/dist-packages (from nltk) (1.4.2)\n",
            "Requirement already satisfied: regex>=2021.8.3 in /usr/local/lib/python3.10/dist-packages (from nltk) (2024.5.15)\n",
            "Requirement already satisfied: tqdm in /usr/local/lib/python3.10/dist-packages (from nltk) (4.66.5)\n"
          ]
        },
        {
          "output_type": "error",
          "ename": "NameError",
          "evalue": "name 'nltk' is not defined",
          "traceback": [
            "\u001b[0;31m---------------------------------------------------------------------------\u001b[0m",
            "\u001b[0;31mNameError\u001b[0m                                 Traceback (most recent call last)",
            "\u001b[0;32m<ipython-input-11-cb03c1be2bb6>\u001b[0m in \u001b[0;36m<cell line: 2>\u001b[0;34m()\u001b[0m\n\u001b[1;32m      1\u001b[0m \u001b[0mget_ipython\u001b[0m\u001b[0;34m(\u001b[0m\u001b[0;34m)\u001b[0m\u001b[0;34m.\u001b[0m\u001b[0msystem\u001b[0m\u001b[0;34m(\u001b[0m\u001b[0;34m'pip install nltk'\u001b[0m\u001b[0;34m)\u001b[0m\u001b[0;34m\u001b[0m\u001b[0;34m\u001b[0m\u001b[0m\n\u001b[0;32m----> 2\u001b[0;31m \u001b[0mnltk\u001b[0m\u001b[0;34m.\u001b[0m\u001b[0mdownload\u001b[0m\u001b[0;34m(\u001b[0m\u001b[0;34m'punkt'\u001b[0m\u001b[0;34m)\u001b[0m\u001b[0;34m\u001b[0m\u001b[0;34m\u001b[0m\u001b[0m\n\u001b[0m\u001b[1;32m      3\u001b[0m \u001b[0;34m\u001b[0m\u001b[0m\n",
            "\u001b[0;31mNameError\u001b[0m: name 'nltk' is not defined"
          ]
        }
      ],
      "source": [
        "!pip install nltk\n",
        "\n"
      ]
    },
    {
      "cell_type": "code",
      "source": [
        "corpus=\"\"\" hello i am dixitha,please do .   support me in my career to step up everyday,\n",
        "thank you god for giving me such a great life.\n",
        "\n",
        "\n",
        "\"\"\""
      ],
      "metadata": {
        "id": "SGczR5p50GLS"
      },
      "execution_count": 35,
      "outputs": []
    },
    {
      "cell_type": "code",
      "source": [
        "print(corpus)"
      ],
      "metadata": {
        "colab": {
          "base_uri": "https://localhost:8080/"
        },
        "id": "FfTUYn-L0z7b",
        "outputId": "8507e3ba-bc89-4820-cecc-21e5bc1fb23b"
      },
      "execution_count": 22,
      "outputs": [
        {
          "output_type": "stream",
          "name": "stdout",
          "text": [
            " hello i am dixitha,please do    support me in my career to step up everyday,\n",
            "thank you god for giving me such a great life\n",
            "\n",
            "\n",
            "\n"
          ]
        }
      ]
    },
    {
      "cell_type": "code",
      "source": [
        "# convert sentense into para\n",
        "import nltk\n",
        "from nltk.tokenize import sent_tokenize\n",
        "nltk.download('punkt')\n",
        "\n",
        "\n"
      ],
      "metadata": {
        "colab": {
          "base_uri": "https://localhost:8080/"
        },
        "id": "7MEvv3SG01ha",
        "outputId": "5fd0bb93-8a0e-4bbc-8ae3-8541b0b3fe43"
      },
      "execution_count": 23,
      "outputs": [
        {
          "output_type": "stream",
          "name": "stderr",
          "text": [
            "[nltk_data] Downloading package punkt to /root/nltk_data...\n",
            "[nltk_data]   Package punkt is already up-to-date!\n"
          ]
        },
        {
          "output_type": "execute_result",
          "data": {
            "text/plain": [
              "True"
            ]
          },
          "metadata": {},
          "execution_count": 23
        }
      ]
    },
    {
      "cell_type": "code",
      "source": [
        "documents=sent_tokenize(corpus)"
      ],
      "metadata": {
        "id": "-wEgkBAC1LJ-"
      },
      "execution_count": 24,
      "outputs": []
    },
    {
      "cell_type": "code",
      "source": [
        "type(documents)"
      ],
      "metadata": {
        "colab": {
          "base_uri": "https://localhost:8080/"
        },
        "id": "N9HKHNdr1WJl",
        "outputId": "9b85be61-9a39-49f3-8676-d3776c91c87e"
      },
      "execution_count": 25,
      "outputs": [
        {
          "output_type": "execute_result",
          "data": {
            "text/plain": [
              "list"
            ]
          },
          "metadata": {},
          "execution_count": 25
        }
      ]
    },
    {
      "cell_type": "code",
      "source": [
        "# convert para into words\n",
        "#sentense into words\n",
        "\n",
        "from nltk.tokenize import word_tokenize"
      ],
      "metadata": {
        "id": "Lhr3CNcR2uD_"
      },
      "execution_count": 26,
      "outputs": []
    },
    {
      "cell_type": "code",
      "source": [
        "word_tokenize(corpus)"
      ],
      "metadata": {
        "colab": {
          "base_uri": "https://localhost:8080/"
        },
        "id": "JY-YDmoi245Q",
        "outputId": "177219ba-d24b-4d3c-f474-a15b38fb3c3c"
      },
      "execution_count": 27,
      "outputs": [
        {
          "output_type": "execute_result",
          "data": {
            "text/plain": [
              "['hello',\n",
              " 'i',\n",
              " 'am',\n",
              " 'dixitha',\n",
              " ',',\n",
              " 'please',\n",
              " 'do',\n",
              " 'support',\n",
              " 'me',\n",
              " 'in',\n",
              " 'my',\n",
              " 'career',\n",
              " 'to',\n",
              " 'step',\n",
              " 'up',\n",
              " 'everyday',\n",
              " ',',\n",
              " 'thank',\n",
              " 'you',\n",
              " 'god',\n",
              " 'for',\n",
              " 'giving',\n",
              " 'me',\n",
              " 'such',\n",
              " 'a',\n",
              " 'great',\n",
              " 'life']"
            ]
          },
          "metadata": {},
          "execution_count": 27
        }
      ]
    },
    {
      "cell_type": "code",
      "source": [
        "for sentense in documents:\n",
        "  print(word_tokenize(sentense))"
      ],
      "metadata": {
        "colab": {
          "base_uri": "https://localhost:8080/"
        },
        "id": "tNFghG7z3JYV",
        "outputId": "0b81b953-65a1-4039-8be4-41052369e151"
      },
      "execution_count": 29,
      "outputs": [
        {
          "output_type": "stream",
          "name": "stdout",
          "text": [
            "['hello', 'i', 'am', 'dixitha', ',', 'please', 'do', 'support', 'me', 'in', 'my', 'career', 'to', 'step', 'up', 'everyday', ',', 'thank', 'you', 'god', 'for', 'giving', 'me', 'such', 'a', 'great', 'life']\n"
          ]
        }
      ]
    },
    {
      "cell_type": "code",
      "source": [
        "from nltk.tokenize import wordpunct_tokenize\n",
        "\n"
      ],
      "metadata": {
        "id": "aJpM5R2R330k"
      },
      "execution_count": 30,
      "outputs": []
    },
    {
      "cell_type": "code",
      "source": [
        "wordpunct_tokenize(corpus)"
      ],
      "metadata": {
        "colab": {
          "base_uri": "https://localhost:8080/"
        },
        "id": "tv8yChp04TBg",
        "outputId": "5bc126a3-8047-4350-f1bb-8fa12fe138d5"
      },
      "execution_count": 31,
      "outputs": [
        {
          "output_type": "execute_result",
          "data": {
            "text/plain": [
              "['hello',\n",
              " 'i',\n",
              " 'am',\n",
              " 'dixitha',\n",
              " ',',\n",
              " 'please',\n",
              " 'do',\n",
              " 'support',\n",
              " 'me',\n",
              " 'in',\n",
              " 'my',\n",
              " 'career',\n",
              " 'to',\n",
              " 'step',\n",
              " 'up',\n",
              " 'everyday',\n",
              " ',',\n",
              " 'thank',\n",
              " 'you',\n",
              " 'god',\n",
              " 'for',\n",
              " 'giving',\n",
              " 'me',\n",
              " 'such',\n",
              " 'a',\n",
              " 'great',\n",
              " 'life']"
            ]
          },
          "metadata": {},
          "execution_count": 31
        }
      ]
    },
    {
      "cell_type": "code",
      "source": [
        "from nltk.tokenize import TreebankWordTokenizer"
      ],
      "metadata": {
        "id": "8H7vtuZ34Vzy"
      },
      "execution_count": 32,
      "outputs": []
    },
    {
      "cell_type": "code",
      "source": [
        "tokenizer=TreebankWordTokenizer()\n"
      ],
      "metadata": {
        "id": "xKj2aJ0p7hJF"
      },
      "execution_count": 33,
      "outputs": []
    },
    {
      "cell_type": "code",
      "source": [
        "tokenizer.tokenize(corpus)"
      ],
      "metadata": {
        "colab": {
          "base_uri": "https://localhost:8080/"
        },
        "id": "OB7_Jh3p7k3g",
        "outputId": "0f92b5df-aa76-40cf-960c-5eff202e1c64"
      },
      "execution_count": 36,
      "outputs": [
        {
          "output_type": "execute_result",
          "data": {
            "text/plain": [
              "['hello',\n",
              " 'i',\n",
              " 'am',\n",
              " 'dixitha',\n",
              " ',',\n",
              " 'please',\n",
              " 'do',\n",
              " '.',\n",
              " 'support',\n",
              " 'me',\n",
              " 'in',\n",
              " 'my',\n",
              " 'career',\n",
              " 'to',\n",
              " 'step',\n",
              " 'up',\n",
              " 'everyday',\n",
              " ',',\n",
              " 'thank',\n",
              " 'you',\n",
              " 'god',\n",
              " 'for',\n",
              " 'giving',\n",
              " 'me',\n",
              " 'such',\n",
              " 'a',\n",
              " 'great',\n",
              " 'life',\n",
              " '.']"
            ]
          },
          "metadata": {},
          "execution_count": 36
        }
      ]
    },
    {
      "cell_type": "code",
      "source": [],
      "metadata": {
        "id": "2Q_kOnyy7rcU"
      },
      "execution_count": null,
      "outputs": []
    }
  ]
}