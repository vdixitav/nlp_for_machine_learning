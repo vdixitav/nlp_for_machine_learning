{
  "nbformat": 4,
  "nbformat_minor": 0,
  "metadata": {
    "colab": {
      "provenance": []
    },
    "kernelspec": {
      "name": "python3",
      "display_name": "Python 3"
    },
    "language_info": {
      "name": "python"
    }
  },
  "cells": [
    {
      "cell_type": "code",
      "execution_count": null,
      "metadata": {
        "id": "MQpaTQuyTi2W"
      },
      "outputs": [],
      "source": []
    },
    {
      "cell_type": "markdown",
      "source": [
        "Wordnet Lemmatizer  :\n",
        "\n",
        "Lemmatization technique is like stemming.The o/p we ll get after lemmatization is called lemma.wich is a root word rather that root stem , the o/p of stemming.after lemmatization we ll be getting a valid word that means the same thing.\n",
        "\n",
        "\n",
        "NLTK provides WordNetLemmatization class which is a thin wrapper around the wordnet corpus.this class uses morphy() function to the WordNet corpusReader class to find a lemma"
      ],
      "metadata": {
        "id": "Js55YMPNUm6-"
      }
    },
    {
      "cell_type": "code",
      "source": [
        "import nltk\n",
        ""
      ],
      "metadata": {
        "id": "7JB5M89DXD6T"
      },
      "execution_count": 5,
      "outputs": []
    },
    {
      "cell_type": "code",
      "source": [
        "nltk.download('wordnet')"
      ],
      "metadata": {
        "colab": {
          "base_uri": "https://localhost:8080/"
        },
        "id": "ZsNXR-HdXPcJ",
        "outputId": "1218039c-e61a-4227-ad0e-478c6c016714"
      },
      "execution_count": 6,
      "outputs": [
        {
          "output_type": "stream",
          "name": "stderr",
          "text": [
            "[nltk_data] Downloading package wordnet to /root/nltk_data...\n"
          ]
        },
        {
          "output_type": "execute_result",
          "data": {
            "text/plain": [
              "True"
            ]
          },
          "metadata": {},
          "execution_count": 6
        }
      ]
    },
    {
      "cell_type": "code",
      "source": [
        "## Q&A , chatbot,textsummerization"
      ],
      "metadata": {
        "id": "Ta6_-yVWWtR6"
      },
      "execution_count": 1,
      "outputs": []
    },
    {
      "cell_type": "code",
      "source": [
        "lemmatizer=WordNetLemmatizer()"
      ],
      "metadata": {
        "id": "kzytCBWKWzyI"
      },
      "execution_count": 7,
      "outputs": []
    },
    {
      "cell_type": "code",
      "source": [
        "lemmatizer.lemmatize(\"going\",pos='v')"
      ],
      "metadata": {
        "colab": {
          "base_uri": "https://localhost:8080/",
          "height": 36
        },
        "id": "aVx6Qn5QW6Up",
        "outputId": "ce53b0e3-6a3b-4b67-d55b-07efa2fdd022"
      },
      "execution_count": 12,
      "outputs": [
        {
          "output_type": "execute_result",
          "data": {
            "text/plain": [
              "'go'"
            ],
            "application/vnd.google.colaboratory.intrinsic+json": {
              "type": "string"
            }
          },
          "metadata": {},
          "execution_count": 12
        }
      ]
    },
    {
      "cell_type": "code",
      "source": [
        "words=[\"eating\",\"eats\",\"ate\",\"eat\",\"writting\",\"programming\",\"history\",\"finally\"]\n",
        "\n",
        "\n",
        "for word in words:\n",
        "  print(word+\"---->\"+lemmatizer.lemmatize(word,pos='v'))"
      ],
      "metadata": {
        "colab": {
          "base_uri": "https://localhost:8080/"
        },
        "id": "5ypBns0BW-5B",
        "outputId": "08f3dcf3-da0c-4e6b-afc8-d9684856bf11"
      },
      "execution_count": 16,
      "outputs": [
        {
          "output_type": "stream",
          "name": "stdout",
          "text": [
            "eating---->eat\n",
            "eats---->eat\n",
            "ate---->eat\n",
            "eat---->eat\n",
            "writting---->writting\n",
            "programming---->program\n",
            "history---->history\n",
            "finally---->finally\n"
          ]
        }
      ]
    },
    {
      "cell_type": "code",
      "source": [
        "lemmatizer.lemmatize(\"goes\",pos='v')"
      ],
      "metadata": {
        "colab": {
          "base_uri": "https://localhost:8080/",
          "height": 36
        },
        "id": "ETVvFuENXxEm",
        "outputId": "d77e34b8-eef2-426b-d709-e164b39158ab"
      },
      "execution_count": 17,
      "outputs": [
        {
          "output_type": "execute_result",
          "data": {
            "text/plain": [
              "'go'"
            ],
            "application/vnd.google.colaboratory.intrinsic+json": {
              "type": "string"
            }
          },
          "metadata": {},
          "execution_count": 17
        }
      ]
    },
    {
      "cell_type": "code",
      "source": [],
      "metadata": {
        "id": "KV9R24KRYHy0"
      },
      "execution_count": null,
      "outputs": []
    }
  ]
}